{
 "cells": [
  {
   "cell_type": "markdown",
   "metadata": {},
   "source": [
    "#### Regresie Logistica - Exemplu Bank Customer Data\n",
    "Let's say i am data scientist working for the bank on a marketing campain. I need to predict which clients are more likely to accept the offer.\n",
    "\n",
    "For now i will be able to test it by manually entering data into the table such as:\n",
    "user1 = [0,1,0,1,0 # .....]\n",
    "where 0 means is_married, 1 would be job_management or the other 0 would be is_fifties or is_fourties ...\n",
    "It's always a good ideea to see on what to train and which is better"
   ]
  },
  {
   "cell_type": "code",
   "execution_count": 11,
   "metadata": {
    "collapsed": false
   },
   "outputs": [],
   "source": [
    "import numpy as np\n",
    "import pandas as pd\n",
    "import matplotlib.pyplot as plt\n",
    "import seaborn as sns\n",
    "\n",
    "from pandas import Series, DataFrame\n",
    "from sklearn.linear_model import LogisticRegression, LinearRegression\n",
    "# gaussian naive bayes\n",
    "from sklearn.naive_bayes import GaussianNB"
   ]
  },
  {
   "cell_type": "markdown",
   "metadata": {
    "collapsed": true
   },
   "source": [
    "Fisier CVS luat de pe UCI Machine Learning Repository (https://archive.ics.uci.edu/ml/datasets/Bank+Marketing#).\n",
    "\n"
   ]
  },
  {
   "cell_type": "code",
   "execution_count": 12,
   "metadata": {
    "collapsed": false
   },
   "outputs": [
    {
     "data": {
      "text/html": [
       "<div>\n",
       "<style scoped>\n",
       "    .dataframe tbody tr th:only-of-type {\n",
       "        vertical-align: middle;\n",
       "    }\n",
       "\n",
       "    .dataframe tbody tr th {\n",
       "        vertical-align: top;\n",
       "    }\n",
       "\n",
       "    .dataframe thead th {\n",
       "        text-align: right;\n",
       "    }\n",
       "</style>\n",
       "<table border=\"1\" class=\"dataframe\">\n",
       "  <thead>\n",
       "    <tr style=\"text-align: right;\">\n",
       "      <th></th>\n",
       "      <th>age</th>\n",
       "      <th>job</th>\n",
       "      <th>marital</th>\n",
       "      <th>education</th>\n",
       "      <th>default</th>\n",
       "      <th>balance</th>\n",
       "      <th>housing</th>\n",
       "      <th>loan</th>\n",
       "      <th>contact</th>\n",
       "      <th>day</th>\n",
       "      <th>...</th>\n",
       "      <th>job_unknown</th>\n",
       "      <th>job_retired</th>\n",
       "      <th>job_services</th>\n",
       "      <th>job_self_employed</th>\n",
       "      <th>job_unemployed</th>\n",
       "      <th>job_maid</th>\n",
       "      <th>job_student</th>\n",
       "      <th>married</th>\n",
       "      <th>single</th>\n",
       "      <th>divorced</th>\n",
       "    </tr>\n",
       "  </thead>\n",
       "  <tbody>\n",
       "    <tr>\n",
       "      <th>0</th>\n",
       "      <td>58</td>\n",
       "      <td>management</td>\n",
       "      <td>married</td>\n",
       "      <td>tertiary</td>\n",
       "      <td>no</td>\n",
       "      <td>2143</td>\n",
       "      <td>yes</td>\n",
       "      <td>no</td>\n",
       "      <td>unknown</td>\n",
       "      <td>5</td>\n",
       "      <td>...</td>\n",
       "      <td>0</td>\n",
       "      <td>0</td>\n",
       "      <td>0</td>\n",
       "      <td>0</td>\n",
       "      <td>0</td>\n",
       "      <td>0</td>\n",
       "      <td>0</td>\n",
       "      <td>1</td>\n",
       "      <td>0</td>\n",
       "      <td>0</td>\n",
       "    </tr>\n",
       "    <tr>\n",
       "      <th>1</th>\n",
       "      <td>44</td>\n",
       "      <td>technician</td>\n",
       "      <td>single</td>\n",
       "      <td>secondary</td>\n",
       "      <td>no</td>\n",
       "      <td>29</td>\n",
       "      <td>yes</td>\n",
       "      <td>no</td>\n",
       "      <td>unknown</td>\n",
       "      <td>5</td>\n",
       "      <td>...</td>\n",
       "      <td>0</td>\n",
       "      <td>0</td>\n",
       "      <td>0</td>\n",
       "      <td>0</td>\n",
       "      <td>0</td>\n",
       "      <td>0</td>\n",
       "      <td>0</td>\n",
       "      <td>0</td>\n",
       "      <td>1</td>\n",
       "      <td>1</td>\n",
       "    </tr>\n",
       "    <tr>\n",
       "      <th>2</th>\n",
       "      <td>33</td>\n",
       "      <td>entrepreneur</td>\n",
       "      <td>married</td>\n",
       "      <td>secondary</td>\n",
       "      <td>no</td>\n",
       "      <td>2</td>\n",
       "      <td>yes</td>\n",
       "      <td>yes</td>\n",
       "      <td>unknown</td>\n",
       "      <td>5</td>\n",
       "      <td>...</td>\n",
       "      <td>0</td>\n",
       "      <td>0</td>\n",
       "      <td>0</td>\n",
       "      <td>0</td>\n",
       "      <td>0</td>\n",
       "      <td>0</td>\n",
       "      <td>0</td>\n",
       "      <td>1</td>\n",
       "      <td>0</td>\n",
       "      <td>0</td>\n",
       "    </tr>\n",
       "    <tr>\n",
       "      <th>3</th>\n",
       "      <td>47</td>\n",
       "      <td>blue-collar</td>\n",
       "      <td>married</td>\n",
       "      <td>unknown</td>\n",
       "      <td>no</td>\n",
       "      <td>1506</td>\n",
       "      <td>yes</td>\n",
       "      <td>no</td>\n",
       "      <td>unknown</td>\n",
       "      <td>5</td>\n",
       "      <td>...</td>\n",
       "      <td>0</td>\n",
       "      <td>0</td>\n",
       "      <td>0</td>\n",
       "      <td>0</td>\n",
       "      <td>0</td>\n",
       "      <td>0</td>\n",
       "      <td>0</td>\n",
       "      <td>1</td>\n",
       "      <td>0</td>\n",
       "      <td>0</td>\n",
       "    </tr>\n",
       "    <tr>\n",
       "      <th>4</th>\n",
       "      <td>33</td>\n",
       "      <td>unknown</td>\n",
       "      <td>single</td>\n",
       "      <td>unknown</td>\n",
       "      <td>no</td>\n",
       "      <td>1</td>\n",
       "      <td>no</td>\n",
       "      <td>no</td>\n",
       "      <td>unknown</td>\n",
       "      <td>5</td>\n",
       "      <td>...</td>\n",
       "      <td>1</td>\n",
       "      <td>0</td>\n",
       "      <td>0</td>\n",
       "      <td>0</td>\n",
       "      <td>0</td>\n",
       "      <td>0</td>\n",
       "      <td>0</td>\n",
       "      <td>0</td>\n",
       "      <td>1</td>\n",
       "      <td>1</td>\n",
       "    </tr>\n",
       "  </tbody>\n",
       "</table>\n",
       "<p>5 rows × 37 columns</p>\n",
       "</div>"
      ],
      "text/plain": [
       "   age   job             marital    education   default   balance   housing   \\\n",
       "0    58  management      married    tertiary    no            2143  yes        \n",
       "1    44  technician      single     secondary   no              29  yes        \n",
       "2    33  entrepreneur    married    secondary   no               2  yes        \n",
       "3    47  blue-collar     married    unknown     no            1506  yes        \n",
       "4    33  unknown         single     unknown     no               1  no         \n",
       "\n",
       "   loan   contact     day   ... job_unknown   job_retired   job_services   \\\n",
       "0  no     unknown        5  ...            0             0              0   \n",
       "1  no     unknown        5  ...            0             0              0   \n",
       "2  yes    unknown        5  ...            0             0              0   \n",
       "3  no     unknown        5  ...            0             0              0   \n",
       "4  no     unknown        5  ...            1             0              0   \n",
       "\n",
       "   job_self_employed   job_unemployed  job_maid  job_student   married   \\\n",
       "0                   0                0         0            0         1   \n",
       "1                   0                0         0            0         0   \n",
       "2                   0                0         0            0         1   \n",
       "3                   0                0         0            0         1   \n",
       "4                   0                0         0            0         0   \n",
       "\n",
       "   single   divorced  \n",
       "0        0         0  \n",
       "1        1         1  \n",
       "2        0         0  \n",
       "3        0         0  \n",
       "4        1         1  \n",
       "\n",
       "[5 rows x 37 columns]"
      ]
     },
     "execution_count": 12,
     "metadata": {},
     "output_type": "execute_result"
    }
   ],
   "source": [
    "bank_full = pd.read_csv('bank_full_w_dummy_vars.csv')\n",
    "bank_full.head()\n"
   ]
  },
  {
   "cell_type": "markdown",
   "metadata": {},
   "source": [
    "The columns in the file 1-16 is the original data that came from marketing/bank. \n",
    "To apply our algorithm here we needed the data to have **binary values of 0s and 1s represented all the columns**.\n",
    "So, **a little tinkering was involved :)**\n",
    "That means after y, where col **y_binary** (our binary model), all columns have binary values that represent columns that would otherwise contain a string. for example \" job == management (which is a string)\" and would be represented as \"job_management belongs to [0,1] where 0 == false and 1 == true \" .... And the same for others where we have yes/no, we would still need true/false"
   ]
  },
  {
   "cell_type": "code",
   "execution_count": 13,
   "metadata": {
    "collapsed": false
   },
   "outputs": [
    {
     "name": "stdout",
     "output_type": "stream",
     "text": [
      "<class 'pandas.core.frame.DataFrame'>\n",
      "RangeIndex: 45211 entries, 0 to 45210\n",
      "Data columns (total 37 columns):\n",
      " #   Column                     Non-Null Count  Dtype \n",
      "---  ------                     --------------  ----- \n",
      " 0   age                        45211 non-null  int64 \n",
      " 1   job                        45211 non-null  object\n",
      " 2   marital                    45211 non-null  object\n",
      " 3   education                  45211 non-null  object\n",
      " 4   default                    45211 non-null  object\n",
      " 5   balance                    45211 non-null  int64 \n",
      " 6   housing                    45211 non-null  object\n",
      " 7   loan                       45211 non-null  object\n",
      " 8   contact                    45211 non-null  object\n",
      " 9   day                        45211 non-null  int64 \n",
      " 10  month                      45211 non-null  object\n",
      " 11  duration                   45211 non-null  int64 \n",
      " 12  campaign                   45211 non-null  int64 \n",
      " 13  pdays                      45211 non-null  int64 \n",
      " 14  previous                   45211 non-null  int64 \n",
      " 15  poutcome                   45211 non-null  object\n",
      " 16  y                          45211 non-null  object\n",
      " 17  y_binary                   45211 non-null  int64 \n",
      " 18  housing_loan               45211 non-null  int64 \n",
      " 19  credit_in_default          45211 non-null  int64 \n",
      " 20  personal_loans             45211 non-null  int64 \n",
      " 21  prev_failed_to_subscribe   45211 non-null  int64 \n",
      " 22  prev_subscribed            45211 non-null  int64 \n",
      " 23  job_management             45211 non-null  int64 \n",
      " 24  job_tech                   45211 non-null  int64 \n",
      " 25  job_entrepreneur           45211 non-null  int64 \n",
      " 26  job_bluecollar             45211 non-null  int64 \n",
      " 27  job_unknown                45211 non-null  int64 \n",
      " 28  job_retired                45211 non-null  int64 \n",
      " 29  job_services               45211 non-null  int64 \n",
      " 30  job_self_employed          45211 non-null  int64 \n",
      " 31  job_unemployed             45211 non-null  int64 \n",
      " 32  job_maid                   45211 non-null  int64 \n",
      " 33  job_student                45211 non-null  int64 \n",
      " 34  married                    45211 non-null  int64 \n",
      " 35  single                     45211 non-null  int64 \n",
      " 36  divorced                   45211 non-null  int64 \n",
      "dtypes: int64(27), object(10)\n",
      "memory usage: 12.8+ MB\n"
     ]
    }
   ],
   "source": [
    "bank_full.info()"
   ]
  },
  {
   "cell_type": "code",
   "execution_count": 14,
   "metadata": {
    "collapsed": false
   },
   "outputs": [
    {
     "data": {
      "text/plain": [
       "array([0, 0, 0, ..., 1, 0, 0])"
      ]
     },
     "execution_count": 14,
     "metadata": {},
     "output_type": "execute_result"
    }
   ],
   "source": [
    "X = bank_full.iloc[:, 18:37].values\n",
    "y = bank_full.iloc[:, 17].values\n",
    "y.view()\n"
   ]
  },
  {
   "cell_type": "code",
   "execution_count": 15,
   "metadata": {
    "collapsed": false
   },
   "outputs": [
    {
     "name": "stdout",
     "output_type": "stream",
     "text": [
      "0.8930127623808365\n",
      "0.8383358032337263\n"
     ]
    }
   ],
   "source": [
    "LogReg = LogisticRegression()\n",
    "xp = LogReg.fit(X, y)\n",
    "\n",
    "# Gaussian Naive Bayes\n",
    "gnb = GaussianNB()\n",
    "y_pred = gnb.fit(X, y)\n",
    "\n",
    "def test_model(model, X, y):\n",
    "    model.fit(X, y)\n",
    "    return model.score(X, y)\n",
    "\n",
    "print(test_model(LogReg, X, y))\n",
    "print(test_model(gnb, X, y))    "
   ]
  },
  {
   "cell_type": "code",
   "execution_count": 16,
   "metadata": {
    "collapsed": false
   },
   "outputs": [
    {
     "name": "stdout",
     "output_type": "stream",
     "text": [
      "\n",
      "\n",
      "Logistic Regression\n",
      "User will not subscribe\n",
      "Probability of subscribing:  0.03884038975628315 \n",
      "\n",
      "None\n",
      "\n",
      "\n",
      "Gaussian Naive Bayes\n",
      "User will not subscribe\n",
      "Probability of subscribing:  7.307563144007395e-11 \n",
      "\n",
      "None\n"
     ]
    }
   ],
   "source": [
    "new_user = np.array([[0, 1, 1, 0, 0, 1, 1, 1, 0, 1, 0, 1, 0, 0, 1, 1, 0, 1, 1]])\n",
    "\n",
    "def test_new_user(model, new_user, message=\"New user: \"):\n",
    "    y_pred = model.predict(new_user)\n",
    "    y_pred_proba = model.predict_proba(new_user)\n",
    "    print(\"\\n\")\n",
    "    print(message)\n",
    "    print(\"User will subscribe\" if y_pred[0] == 1 else \"User will not subscribe\")\n",
    "    print(\"Probability of subscribing: \", y_pred_proba[0][1], \"\\n\")\n",
    "\n",
    "print(test_new_user(LogReg, new_user, message=\"Logistic Regression\"))\n",
    "print(test_new_user(gnb, new_user, message=\"Gaussian Naive Bayes\"))\n",
    "\n",
    "\n"
   ]
  },
  {
   "cell_type": "code",
   "execution_count": 17,
   "metadata": {
    "collapsed": false
   },
   "outputs": [
    {
     "name": "stdout",
     "output_type": "stream",
     "text": [
      "\n",
      "\n",
      "Logistic Regression\n",
      "User will subscribe\n",
      "Probability of subscribing:  0.8946954120393635 \n",
      "\n",
      "\n",
      "\n",
      "Gaussian Naive Bayes\n",
      "User will subscribe\n",
      "Probability of subscribing:  1.0 \n",
      "\n"
     ]
    }
   ],
   "source": [
    "new_user = np.array([0, 0, 0, 1, 1, 1, 0, 0, 1, 0, 1, 0, 0, 0, 0, 1, 0, 0, 1]).reshape(1, -1)\n",
    "\n",
    "test_new_user(LogReg, new_user, message=\"Logistic Regression\")\n",
    "test_new_user(gnb, new_user, message=\"Gaussian Naive Bayes\")"
   ]
  },
  {
   "cell_type": "code",
   "execution_count": 18,
   "metadata": {
    "collapsed": true
   },
   "outputs": [
    {
     "name": "stdout",
     "output_type": "stream",
     "text": [
      "Classification Report for Logistic Regression : \n",
      "               precision    recall  f1-score   support\n",
      "\n",
      "           0       0.90      0.99      0.94     39922\n",
      "           1       0.67      0.17      0.27      5289\n",
      "\n",
      "    accuracy                           0.89     45211\n",
      "   macro avg       0.79      0.58      0.61     45211\n",
      "weighted avg       0.87      0.89      0.86     45211\n",
      " \n",
      "\n",
      "Confusion Matrix for Logistic Regression : \n",
      " [[39489   433]\n",
      " [ 4404   885]] \n",
      "\n",
      "Classification Report for Gaussian Naive Bayes : \n",
      "               precision    recall  f1-score   support\n",
      "\n",
      "           0       0.91      0.91      0.91     39922\n",
      "           1       0.31      0.32      0.32      5289\n",
      "\n",
      "    accuracy                           0.84     45211\n",
      "   macro avg       0.61      0.62      0.61     45211\n",
      "weighted avg       0.84      0.84      0.84     45211\n",
      " \n",
      "\n",
      "Confusion Matrix for Gaussian Naive Bayes : \n",
      " [[36190  3732]\n",
      " [ 3577  1712]] \n",
      "\n"
     ]
    }
   ],
   "source": [
    "\n",
    "# // show the confusion matrix\n",
    "from sklearn.metrics import confusion_matrix\n",
    "# show the classification report for the model\n",
    "from sklearn.metrics import classification_report\n",
    "\n",
    "y_pred_log = LogReg.predict(X)\n",
    "print(\"Classification Report for Logistic Regression : \\n\", classification_report(y, y_pred_log), \"\\n\")\n",
    "print (\"Confusion Matrix for Logistic Regression : \\n\", confusion_matrix(y, y_pred_log), \"\\n\")\n",
    "\n",
    "y_pred_gnb = gnb.predict(X)\n",
    "print(\"Classification Report for Gaussian Naive Bayes : \\n\", classification_report(y, y_pred_gnb), \"\\n\")\n",
    "print (\"Confusion Matrix for Gaussian Naive Bayes : \\n\", confusion_matrix(y, y_pred_gnb), \"\\n\")\n",
    "\n",
    "\n"
   ]
  },
  {
   "cell_type": "code",
   "execution_count": null,
   "metadata": {},
   "outputs": [],
   "source": []
  }
 ],
 "metadata": {
  "kernelspec": {
   "display_name": "Python 3",
   "language": "python",
   "name": "python3"
  },
  "language_info": {
   "codemirror_mode": {
    "name": "ipython",
    "version": 3
   },
   "file_extension": ".py",
   "mimetype": "text/x-python",
   "name": "python",
   "nbconvert_exporter": "python",
   "pygments_lexer": "ipython3",
   "version": "3.11.7"
  }
 },
 "nbformat": 4,
 "nbformat_minor": 2
}
